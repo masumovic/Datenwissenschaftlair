{
 "cells": [
  {
   "cell_type": "markdown",
   "id": "a5b39166",
   "metadata": {},
   "source": [
    "Note: 2017 was the first year where PKWs had a category for \"Elektro\". Before that, there was only a category for \"sonstige\". (Years from 2017 have both categories.)\n",
    "\n",
    "Data from https://www.kba.de/DE/Statistik/Produktkatalog/produkte/Fahrzeuge/fz1_b_uebersicht.html"
   ]
  },
  {
   "cell_type": "code",
   "execution_count": 5,
   "id": "c0d672e0",
   "metadata": {},
   "outputs": [],
   "source": [
    "import pandas as pd"
   ]
  },
  {
   "cell_type": "markdown",
   "id": "cc03f13d",
   "metadata": {},
   "source": [
    "## Making dataframes from the years where we have a CSV"
   ]
  },
  {
   "cell_type": "code",
   "execution_count": 116,
   "id": "64ce7426",
   "metadata": {},
   "outputs": [],
   "source": [
    "#List of columns that we want as they are listed in CSV files. New list uses Python numbering.\n",
    "csv_col_list = [1,7,19,21,36,37,40,41,44,45,46,47,48,49,50,51,52]\n",
    "py_col_list = [i - 1 for i in csv_col_list]\n",
    "\n",
    "#function to import a CSV file for a year into a dataframe\n",
    "def CSVtoPD(year):\n",
    "    filepath = \"data/\" + str(year) + \" formatted.csv\"\n",
    "    \n",
    "    #removes columns and rows that we don't want\n",
    "    df = pd.read_csv(filepath,usecols=py_col_list)\n",
    "    df = df.drop([0],axis=0)\n",
    "    \n",
    "    #change column names\n",
    "    df.rename(columns = {'Unnamed: 0':'Place'}, inplace = True)\n",
    "    \n",
    "    return(df)"
   ]
  },
  {
   "cell_type": "code",
   "execution_count": 118,
   "id": "a0f02a76",
   "metadata": {},
   "outputs": [],
   "source": [
    "df2013 = CSVtoPD(2013)\n",
    "df2014 = CSVtoPD(2014)\n",
    "df2015 = CSVtoPD(2015)\n",
    "df2016 = CSVtoPD(2016)\n",
    "df2017 = CSVtoPD(2017)"
   ]
  },
  {
   "cell_type": "markdown",
   "id": "b2899537",
   "metadata": {},
   "source": [
    "## Making dataframes from the years where we have a .xlsx"
   ]
  },
  {
   "cell_type": "code",
   "execution_count": 129,
   "id": "d139b8eb",
   "metadata": {},
   "outputs": [],
   "source": [
    "#these numbers are used in the spreadsheet to identify our 10 cities\n",
    "cities = \"11000|02000|09162|05315|06412|08111|05111|14713|05913|05113\"\n",
    "\n",
    "#function to turn an .XLSX file for year into a df\n",
    "def ExceltoDF(year):\n",
    "    #generate filepath for the relevant year\n",
    "    filepath = \"data/fz1_\" + str(year) + \".xlsx\"\n",
    "    \n",
    "    #read sheet FZ1.1 from that file path, skip first 8 roads, skip columns without header names\n",
    "    df1 = pd.read_excel(filepath, sheet_name='FZ1.1',skiprows=8,usecols=lambda x: 'Unnamed' not in x)\n",
    "\n",
    "    #fill the merged cells with the corresponding value\n",
    "    df1 = df1.fillna(method='ffill')\n",
    "\n",
    "    #remove the final 5 rows. They don't have relevant data and are in a different format.\n",
    "    df1 = df1[:-6]\n",
    "    \n",
    "    #same as above for most of sheet 2\n",
    "    #the Excel formatting makes it hard to get the columns before Benzin but they're not needed\n",
    "    df2 = pd.read_excel(filepath, sheet_name='FZ1.2',skiprows=8,usecols=lambda x: 'Unnamed' not in x)\n",
    "    df2 = df2.fillna(method='ffill')\n",
    "    df2 = df2[:-5]\n",
    "    \n",
    "    #combines the dataframes from each of the sheets\n",
    "    df = pd.concat([df1, df2], axis=1)\n",
    "    \n",
    "    #filters the dataframe to only show rows with our 10 cities    \n",
    "    df = df.dropna(subset=['Statistische Kennziffer und Zulassungsbezirk'])\n",
    "    df = df.loc[df['Statistische Kennziffer und Zulassungsbezirk'].str.contains(cities)]\n",
    "    \n",
    "    #Berlin and Hamburg are cities and Länder so this line is needed to stop them from being duplicated in the df\n",
    "    df = df.loc[df[\"Land\"].str.contains('INSGESAMT')==False]\n",
    "    \n",
    "    #remove unnecessary columns\n",
    "    df = df.iloc[:,[2,8,19,20,33,34,35,36,40,42,43,44,45,46,47,50,51]]\n",
    "\n",
    "    #renames the columns\n",
    "    df.columns = df.columns.str.replace('Euro', 'PKW Emissionsgruppe Euro')\n",
    "    df.rename(columns = {'insgesamt.1':'PKW insgesamt', \n",
    "                         'PKW-Dichte\\nje 1.000 \\nEinwohner':'PKW Dichte',\n",
    "                         'insgesamt.2':'LKW insgesamt',\n",
    "                         'insgesamt.4':'KFZ insgesamt',\n",
    "                         'Kfz-Dichte\\nje 1.000 \\nEinwohner':'KFZ Dichte',\n",
    "                         'sonstige.1':'PKW Emissionsgruppe sonstige',\n",
    "                         'schadstoff-\\nreduzierte \\ninsgesamt':'PKW Emissionsgruppe schadstoffreduzierte insgesamt'}, inplace = True)\n",
    "    \n",
    "    return(df)"
   ]
  },
  {
   "cell_type": "code",
   "execution_count": 130,
   "id": "3e57e369",
   "metadata": {},
   "outputs": [],
   "source": [
    "#It doesn't work with 2018 and I don't understand why!\n",
    "#df2018 = ExceltoDF(2018)\n",
    "df2019 = ExceltoDF(2019)\n",
    "df2020 = ExceltoDF(2020)\n",
    "df2021 = ExceltoDF(2021)\n",
    "df2022 = ExceltoDF(2022)"
   ]
  }
 ],
 "metadata": {
  "kernelspec": {
   "display_name": "Python 3 (ipykernel)",
   "language": "python",
   "name": "python3"
  },
  "language_info": {
   "codemirror_mode": {
    "name": "ipython",
    "version": 3
   },
   "file_extension": ".py",
   "mimetype": "text/x-python",
   "name": "python",
   "nbconvert_exporter": "python",
   "pygments_lexer": "ipython3",
   "version": "3.9.7"
  }
 },
 "nbformat": 4,
 "nbformat_minor": 5
}
